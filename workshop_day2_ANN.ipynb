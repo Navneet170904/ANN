{
  "cells": [
    {
      "cell_type": "markdown",
      "metadata": {
        "id": "view-in-github",
        "colab_type": "text"
      },
      "source": [
        "<a href=\"https://colab.research.google.com/github/Navneet170904/ANN/blob/main/workshop_day2_ANN.ipynb\" target=\"_parent\"><img src=\"https://colab.research.google.com/assets/colab-badge.svg\" alt=\"Open In Colab\"/></a>"
      ]
    },
    {
      "cell_type": "markdown",
      "metadata": {
        "id": "U1OVaoXKai9V"
      },
      "source": [
        "Part1- Data Processing"
      ]
    },
    {
      "cell_type": "code",
      "execution_count": null,
      "metadata": {
        "colab": {
          "background_save": true
        },
        "id": "lZLoft0RCK9n"
      },
      "outputs": [],
      "source": [
        "import numpy as np\n",
        "import pandas as pd\n",
        "import tensorflow as tf"
      ]
    },
    {
      "cell_type": "code",
      "execution_count": null,
      "metadata": {
        "colab": {
          "background_save": true,
          "base_uri": "https://localhost:8080/",
          "height": 36
        },
        "id": "Ny2ROEj4V7DP",
        "outputId": "ab3f6abc-e1f4-485c-f8ef-fa3271b10743"
      },
      "outputs": [
        {
          "data": {
            "application/vnd.google.colaboratory.intrinsic+json": {
              "type": "string"
            },
            "text/plain": [
              "'2.11.0'"
            ]
          },
          "execution_count": 40,
          "metadata": {},
          "output_type": "execute_result"
        }
      ],
      "source": [
        "tf.__version__"
      ]
    },
    {
      "cell_type": "markdown",
      "metadata": {
        "id": "4EIPNgtqap3p"
      },
      "source": [
        "Importing the dataset"
      ]
    },
    {
      "cell_type": "code",
      "execution_count": null,
      "metadata": {
        "colab": {
          "background_save": true
        },
        "id": "0iJ1bbYSWBoA"
      },
      "outputs": [],
      "source": [
        "dataset = pd.read_csv(\"/content/drive/MyDrive/Churn_Modelling.csv\")\n",
        "x  = dataset.iloc[:,3:-1].values\n",
        "y = dataset.iloc[:,-1].values"
      ]
    },
    {
      "cell_type": "code",
      "execution_count": null,
      "metadata": {
        "colab": {
          "background_save": true
        },
        "id": "qP3IyXltWZRt"
      },
      "outputs": [],
      "source": [
        "from sklearn.preprocessing import LabelEncoder\n",
        "le = LabelEncoder()\n",
        "x[:,2] = le.fit_transform(x[:,2])"
      ]
    },
    {
      "cell_type": "code",
      "execution_count": null,
      "metadata": {
        "colab": {
          "background_save": true,
          "base_uri": "https://localhost:8080/"
        },
        "id": "4Y-ASKUOWw5K",
        "outputId": "677ed7f3-a148-49fb-acb3-c544af4b86a2"
      },
      "outputs": [
        {
          "name": "stdout",
          "output_type": "stream",
          "text": [
            "[[619 'France' 0 ... 1 1 101348.88]\n",
            " [608 'Spain' 0 ... 0 1 112542.58]\n",
            " [502 'France' 0 ... 1 0 113931.57]\n",
            " ...\n",
            " [709 'France' 0 ... 0 1 42085.58]\n",
            " [772 'Germany' 1 ... 1 0 92888.52]\n",
            " [792 'France' 0 ... 1 0 38190.78]]\n"
          ]
        }
      ],
      "source": [
        "print(x)"
      ]
    },
    {
      "cell_type": "code",
      "execution_count": null,
      "metadata": {
        "colab": {
          "background_save": true,
          "base_uri": "https://localhost:8080/"
        },
        "id": "ue_VE_1BjoPe",
        "outputId": "ce446ce8-e149-459a-aa45-103dda01287c"
      },
      "outputs": [
        {
          "name": "stdout",
          "output_type": "stream",
          "text": [
            "[1 0 1 ... 1 1 0]\n"
          ]
        }
      ],
      "source": [
        "print(y)"
      ]
    },
    {
      "cell_type": "code",
      "execution_count": null,
      "metadata": {
        "colab": {
          "background_save": true
        },
        "id": "Kd2qh0rZWzP7"
      },
      "outputs": [],
      "source": [
        "from sklearn.compose import ColumnTransformer\n",
        "from sklearn.preprocessing import OneHotEncoder\n",
        "ct = ColumnTransformer(transformers=[('encoder', OneHotEncoder(), [1])], remainder='passthrough')\n",
        "x = np.array(ct.fit_transform(x))"
      ]
    },
    {
      "cell_type": "markdown",
      "metadata": {
        "id": "iiNsSKkfX6_F"
      },
      "source": [
        "Spliting the dataset into the Training set and test set"
      ]
    },
    {
      "cell_type": "code",
      "execution_count": null,
      "metadata": {
        "colab": {
          "background_save": true
        },
        "id": "3UiRmLXFXcCI"
      },
      "outputs": [],
      "source": [
        "from sklearn.model_selection import train_test_split\n",
        "x_train, x_test, y_train, y_test = train_test_split(x, y, test_size = 0.2, random_state = 0)"
      ]
    },
    {
      "cell_type": "markdown",
      "metadata": {
        "id": "g5Je380_YEvy"
      },
      "source": [
        "Feature Scaling"
      ]
    },
    {
      "cell_type": "code",
      "execution_count": null,
      "metadata": {
        "colab": {
          "background_save": true
        },
        "id": "F9wZ6rLMXw6v"
      },
      "outputs": [],
      "source": [
        "from sklearn.preprocessing import StandardScaler\n",
        "sc = StandardScaler()\n",
        "x_train = sc.fit_transform(x_train)\n",
        "x_test = sc.transform(x_test)"
      ]
    },
    {
      "cell_type": "markdown",
      "metadata": {
        "id": "9yCQ-3rsY5ri"
      },
      "source": [
        "Part2 - Building the ANN"
      ]
    },
    {
      "cell_type": "markdown",
      "metadata": {
        "id": "wDnuyneFY_kO"
      },
      "source": [
        "Initializing the ANN"
      ]
    },
    {
      "cell_type": "code",
      "execution_count": null,
      "metadata": {
        "colab": {
          "background_save": true
        },
        "id": "5Zg99hZfYV3g"
      },
      "outputs": [],
      "source": [
        "ann = tf.keras.models.Sequential()"
      ]
    },
    {
      "cell_type": "markdown",
      "metadata": {
        "id": "3BanUoQZZPiX"
      },
      "source": [
        "Adding the input layer and the first hidden layer"
      ]
    },
    {
      "cell_type": "code",
      "execution_count": null,
      "metadata": {
        "colab": {
          "background_save": true
        },
        "id": "HdcEmg9bZMle"
      },
      "outputs": [],
      "source": [
        "#ann.add(tf.keras.Input(shape=(11,)))"
      ]
    },
    {
      "cell_type": "code",
      "execution_count": null,
      "metadata": {
        "colab": {
          "background_save": true
        },
        "id": "s4iWEbk5Zd-U"
      },
      "outputs": [],
      "source": [
        "ann.add(tf.keras.layers.Dense(units=6, activation='relu'))"
      ]
    },
    {
      "cell_type": "markdown",
      "metadata": {
        "id": "iBtqZYRFZreI"
      },
      "source": [
        "Adding the second hidden layer"
      ]
    },
    {
      "cell_type": "code",
      "execution_count": null,
      "metadata": {
        "colab": {
          "background_save": true
        },
        "id": "hIpHwqa7ZpV0"
      },
      "outputs": [],
      "source": [
        "ann.add(tf.keras.layers.Dense(units=6, activation='relu'))"
      ]
    },
    {
      "cell_type": "markdown",
      "metadata": {
        "id": "wgMVQ8y3bcOC"
      },
      "source": [
        "Adding the output layer"
      ]
    },
    {
      "cell_type": "code",
      "execution_count": null,
      "metadata": {
        "colab": {
          "background_save": true
        },
        "id": "KgK6833jbXuc"
      },
      "outputs": [],
      "source": [
        "ann.add(tf.keras.layers.Dense(units=1, activation='relu'))"
      ]
    },
    {
      "cell_type": "markdown",
      "metadata": {
        "id": "qHRlCl5Qbunl"
      },
      "source": [
        "Part3 - Training the ANN"
      ]
    },
    {
      "cell_type": "markdown",
      "metadata": {
        "id": "isoTJ9S9b0WN"
      },
      "source": [
        "compiling the ANN"
      ]
    },
    {
      "cell_type": "code",
      "execution_count": null,
      "metadata": {
        "colab": {
          "background_save": true
        },
        "id": "dj27BCSqbtQn"
      },
      "outputs": [],
      "source": [
        "ann.compile(optimizer = 'adam', loss = 'binary_crossentropy', metrics = ['accuracy'])"
      ]
    },
    {
      "cell_type": "markdown",
      "metadata": {
        "id": "ODw0ryyHb8cM"
      },
      "source": [
        "Training the ANN on the Training set"
      ]
    },
    {
      "cell_type": "code",
      "execution_count": null,
      "metadata": {
        "colab": {
          "background_save": true,
          "base_uri": "https://localhost:8080/"
        },
        "id": "cOGOia8Jb7K6",
        "outputId": "dc337e5b-8ba1-4854-cd6b-168662f7a5c9"
      },
      "outputs": [
        {
          "name": "stdout",
          "output_type": "stream",
          "text": [
            "Epoch 1/20\n",
            "250/250 [==============================] - 1s 3ms/step - loss: 2.8536 - accuracy: 0.6342\n",
            "Epoch 2/20\n",
            "250/250 [==============================] - 1s 3ms/step - loss: 2.0336 - accuracy: 0.7174\n",
            "Epoch 3/20\n",
            "250/250 [==============================] - 1s 2ms/step - loss: 1.3207 - accuracy: 0.7315\n",
            "Epoch 4/20\n",
            "250/250 [==============================] - 1s 2ms/step - loss: 0.6470 - accuracy: 0.7511\n",
            "Epoch 5/20\n",
            "250/250 [==============================] - 1s 2ms/step - loss: 0.5390 - accuracy: 0.7671\n",
            "Epoch 6/20\n",
            "250/250 [==============================] - 1s 2ms/step - loss: 0.5036 - accuracy: 0.7828\n",
            "Epoch 7/20\n",
            "250/250 [==============================] - 1s 2ms/step - loss: 0.4878 - accuracy: 0.7908\n",
            "Epoch 8/20\n",
            "250/250 [==============================] - 0s 2ms/step - loss: 0.4777 - accuracy: 0.7944\n",
            "Epoch 9/20\n",
            "250/250 [==============================] - 0s 2ms/step - loss: 0.4715 - accuracy: 0.7943\n",
            "Epoch 10/20\n",
            "250/250 [==============================] - 0s 2ms/step - loss: 0.4668 - accuracy: 0.7960\n",
            "Epoch 11/20\n",
            "250/250 [==============================] - 1s 2ms/step - loss: 0.4630 - accuracy: 0.7959\n",
            "Epoch 12/20\n",
            "250/250 [==============================] - 0s 2ms/step - loss: 0.4584 - accuracy: 0.7980\n",
            "Epoch 13/20\n",
            "250/250 [==============================] - 0s 2ms/step - loss: 0.4544 - accuracy: 0.7989\n",
            "Epoch 14/20\n",
            "250/250 [==============================] - 0s 2ms/step - loss: 0.4513 - accuracy: 0.7999\n",
            "Epoch 15/20\n",
            "250/250 [==============================] - 0s 2ms/step - loss: 0.4484 - accuracy: 0.8019\n",
            "Epoch 16/20\n",
            "250/250 [==============================] - 0s 2ms/step - loss: 0.4451 - accuracy: 0.8029\n",
            "Epoch 17/20\n",
            "250/250 [==============================] - 0s 2ms/step - loss: 0.4423 - accuracy: 0.8031\n",
            "Epoch 18/20\n",
            "250/250 [==============================] - 0s 2ms/step - loss: 0.4399 - accuracy: 0.8036\n",
            "Epoch 19/20\n",
            "250/250 [==============================] - 0s 2ms/step - loss: 0.4375 - accuracy: 0.8044\n",
            "Epoch 20/20\n",
            "250/250 [==============================] - 0s 2ms/step - loss: 0.4354 - accuracy: 0.8044\n"
          ]
        },
        {
          "data": {
            "text/plain": [
              "<keras.callbacks.History at 0x7f0060922250>"
            ]
          },
          "execution_count": 83,
          "metadata": {},
          "output_type": "execute_result"
        }
      ],
      "source": [
        "ann.fit(x_train, y_train, batch_size = 32, epochs = 20)"
      ]
    },
    {
      "cell_type": "markdown",
      "metadata": {
        "id": "u9O9gNpKdCLM"
      },
      "source": [
        "Part4 - Making prediction and evaluation the"
      ]
    },
    {
      "cell_type": "markdown",
      "metadata": {
        "id": "PeuCbn0-do-H"
      },
      "source": [
        "Predicting the result of a single observation"
      ]
    },
    {
      "cell_type": "markdown",
      "metadata": {
        "id": "_qxb89IqdxVu"
      },
      "source": [
        "Use our ANN model to predict if the customer with the following informations will leave the bank:"
      ]
    },
    {
      "cell_type": "markdown",
      "metadata": {
        "id": "QTbdwc39dqLw"
      },
      "source": [
        "Geography: France\n",
        "\n",
        "Credit Score: 600\n",
        "\n",
        "Gender: Male\n",
        "\n",
        "Age: 40 years old\n",
        "\n",
        "Tenure: 3 years\n",
        "\n",
        "Balance: $ 60000\n",
        "\n",
        "Number of Products: 2\n",
        "\n",
        "Does this customer have a credit card ? Yes\n",
        "\n",
        "Is this customer an Active Member: Yes\n",
        "\n",
        "Estimated Salary: $ 50000\n",
        "\n",
        "So, should we say goodbye to that customer ?"
      ]
    },
    {
      "cell_type": "code",
      "execution_count": null,
      "metadata": {
        "colab": {
          "background_save": true,
          "base_uri": "https://localhost:8080/"
        },
        "id": "sgD0sotScN0O",
        "outputId": "cb9c5bd6-f044-4dd3-f8ea-e36fdb0f51e0"
      },
      "outputs": [
        {
          "name": "stdout",
          "output_type": "stream",
          "text": [
            "1/1 [==============================] - 0s 83ms/step\n",
            "[[False]]\n"
          ]
        }
      ],
      "source": [
        "print(ann.predict(sc.transform([[1, 0, 0, 600, 1, 40, 3, 60000, 2, 1, 1, 50000]])) > 0.5)"
      ]
    },
    {
      "cell_type": "code",
      "execution_count": null,
      "metadata": {
        "colab": {
          "background_save": true,
          "base_uri": "https://localhost:8080/"
        },
        "id": "C-r4BK0Vd2Q5",
        "outputId": "34f86dfe-1371-42f7-df48-2da5cfeaaf4c"
      },
      "outputs": [
        {
          "name": "stdout",
          "output_type": "stream",
          "text": [
            "63/63 [==============================] - 0s 1ms/step\n",
            "[[0 0]\n",
            " [0 1]\n",
            " [0 0]\n",
            " ...\n",
            " [0 0]\n",
            " [0 0]\n",
            " [0 0]]\n"
          ]
        }
      ],
      "source": [
        "y_pred = ann.predict(x_test)\n",
        "y_pred = (y_pred > 0.5)\n",
        "print(np.concatenate((y_pred.reshape(len(y_pred),1), y_test.reshape(len(y_test),1)),1))"
      ]
    },
    {
      "cell_type": "markdown",
      "metadata": {
        "id": "T1oXVmStem6l"
      },
      "source": [
        "Making confusion matrix"
      ]
    },
    {
      "cell_type": "code",
      "execution_count": null,
      "metadata": {
        "colab": {
          "background_save": true,
          "base_uri": "https://localhost:8080/"
        },
        "id": "4vp43DS6efmY",
        "outputId": "f4c0f5c2-61c5-4d2b-b6c3-754d67f7585d"
      },
      "outputs": [
        {
          "name": "stdout",
          "output_type": "stream",
          "text": [
            "[[1559   36]\n",
            " [ 343   62]]\n"
          ]
        },
        {
          "data": {
            "text/plain": [
              "0.8105"
            ]
          },
          "execution_count": 86,
          "metadata": {},
          "output_type": "execute_result"
        }
      ],
      "source": [
        "from sklearn.metrics import confusion_matrix, accuracy_score\n",
        "cm = confusion_matrix(y_test, y_pred)\n",
        "print(cm)\n",
        "accuracy_score(y_test, y_pred)"
      ]
    },
    {
      "cell_type": "code",
      "source": [],
      "metadata": {
        "id": "x2rjxd9tt2R5"
      },
      "execution_count": null,
      "outputs": []
    }
  ],
  "metadata": {
    "colab": {
      "provenance": [],
      "mount_file_id": "1Lra-InBNbm-OiHGH-PJ_sryY-w6BvY5p",
      "authorship_tag": "ABX9TyN/maxzQGLkSmrRFjnKub0U",
      "include_colab_link": true
    },
    "kernelspec": {
      "display_name": "Python 3",
      "name": "python3"
    },
    "language_info": {
      "name": "python"
    }
  },
  "nbformat": 4,
  "nbformat_minor": 0
}